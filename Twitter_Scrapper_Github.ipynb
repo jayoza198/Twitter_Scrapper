{
 "cells": [
  {
   "cell_type": "code",
   "execution_count": 2,
   "id": "77f6d114",
   "metadata": {},
   "outputs": [],
   "source": [
    "import tweepy \n",
    "import pandas as pd\n",
    "import datetime as dt"
   ]
  },
  {
   "cell_type": "code",
   "execution_count": 3,
   "id": "85d6feab",
   "metadata": {},
   "outputs": [],
   "source": [
    "consumer_key= \"Your Consumer Key\"\n",
    "consumer_secret=\"Your Consumer Secret Key\"\n",
    "access_token=\"Your Access token number\"\n",
    "access_token_secret=\"Your Access_token secret key\""
   ]
  },
  {
   "cell_type": "code",
   "execution_count": 4,
   "id": "259b6086",
   "metadata": {},
   "outputs": [],
   "source": [
    "auth=tweepy.OAuthHandler(consumer_key, consumer_secret)\n",
    "auth.set_access_token(access_token, access_token_secret)\n",
    "api=tweepy.API(auth)"
   ]
  },
  {
   "cell_type": "code",
   "execution_count": null,
   "id": "a4ad4d7d",
   "metadata": {},
   "outputs": [],
   "source": [
    "tweets=[]\n",
    "likes=[]\n",
    "time=[]\n",
    "startDate = dt.date(2022, 3, 4)\n",
    "endDate =   dt.date(2022, 3, 18)\n",
    "tweet = tweepy.Cursor(api.search_tweets, q=\"#nftdrops\", begin_date=startDate, end_date=endDate, tweet_mode=\"extended\").items(5000)\n",
    "for i in tweet:\n",
    "    tweets.append(i.full_text)\n",
    "    likes.append(i.favorite_count)\n",
    "    time.append(i.created_at)"
   ]
  },
  {
   "cell_type": "code",
   "execution_count": null,
   "id": "0ee3f114",
   "metadata": {},
   "outputs": [],
   "source": [
    "df= pd.DataFrame({'tweets':tweets, 'likes':likes, 'time':time})"
   ]
  },
  {
   "cell_type": "code",
   "execution_count": null,
   "id": "789a02fb",
   "metadata": {
    "scrolled": true
   },
   "outputs": [],
   "source": [
    "df"
   ]
  },
  {
   "cell_type": "code",
   "execution_count": null,
   "id": "83666b3f",
   "metadata": {},
   "outputs": [],
   "source": [
    "df= df[~df.tweets.str.contains(\"RT\")]\n",
    "df= df[~df.tweets.str.contains(\"\\n\")]"
   ]
  },
  {
   "cell_type": "code",
   "execution_count": null,
   "id": "fd4c92f5",
   "metadata": {},
   "outputs": [],
   "source": [
    "df"
   ]
  },
  {
   "cell_type": "code",
   "execution_count": null,
   "id": "357ada41",
   "metadata": {},
   "outputs": [],
   "source": [
    "df=df.reset_index(drop=True)"
   ]
  },
  {
   "cell_type": "code",
   "execution_count": null,
   "id": "1efb139f",
   "metadata": {},
   "outputs": [],
   "source": [
    "df"
   ]
  }
 ],
 "metadata": {
  "kernelspec": {
   "display_name": "Python 3 (ipykernel)",
   "language": "python",
   "name": "python3"
  },
  "language_info": {
   "codemirror_mode": {
    "name": "ipython",
    "version": 3
   },
   "file_extension": ".py",
   "mimetype": "text/x-python",
   "name": "python",
   "nbconvert_exporter": "python",
   "pygments_lexer": "ipython3",
   "version": "3.9.7"
  }
 },
 "nbformat": 4,
 "nbformat_minor": 5
}
